{
  "nbformat": 4,
  "nbformat_minor": 0,
  "metadata": {
    "colab": {
      "provenance": []
    },
    "kernelspec": {
      "name": "python3",
      "display_name": "Python 3"
    },
    "language_info": {
      "name": "python"
    }
  },
  "cells": [
    {
      "cell_type": "code",
      "execution_count": 1,
      "metadata": {
        "id": "CxyZZyoNC6qm"
      },
      "outputs": [],
      "source": [
        "import tensorflow as tf\n",
        "from tensorflow import keras\n",
        "from keras.datasets import mnist\n",
        "from keras.models import Sequential\n",
        "from keras.layers import Dense,Dropout,Flatten"
      ]
    },
    {
      "cell_type": "code",
      "source": [
        "(x_train,y_train),(x_test,y_test)=mnist.load_data()"
      ],
      "metadata": {
        "id": "IALtBkkgDtUP"
      },
      "execution_count": 2,
      "outputs": []
    },
    {
      "cell_type": "code",
      "source": [
        "print(x_train.shape,y_train.shape)\n",
        "print(x_test.shape,y_test.shape)"
      ],
      "metadata": {
        "colab": {
          "base_uri": "https://localhost:8080/"
        },
        "id": "pyjE4Xv4EGMu",
        "outputId": "ded221d1-44e8-4e34-a4d1-feb3565e53a3"
      },
      "execution_count": 3,
      "outputs": [
        {
          "output_type": "stream",
          "name": "stdout",
          "text": [
            "(60000, 28, 28) (60000,)\n",
            "(10000, 28, 28) (10000,)\n"
          ]
        }
      ]
    },
    {
      "cell_type": "code",
      "source": [
        "x_train.shape[0]"
      ],
      "metadata": {
        "colab": {
          "base_uri": "https://localhost:8080/"
        },
        "id": "aCQtMFUrESRk",
        "outputId": "ab7a124e-2d81-46a0-cb93-e7ce4d091841"
      },
      "execution_count": 4,
      "outputs": [
        {
          "output_type": "execute_result",
          "data": {
            "text/plain": [
              "60000"
            ]
          },
          "metadata": {},
          "execution_count": 4
        }
      ]
    },
    {
      "cell_type": "code",
      "source": [
        "x_train =x_train.reshape(x_train.shape[0],28,28,1)"
      ],
      "metadata": {
        "id": "q5BhHSI_EZMe"
      },
      "execution_count": 5,
      "outputs": []
    },
    {
      "cell_type": "code",
      "source": [
        "x_test =x_test.reshape(x_test.shape[0],28,28,1)"
      ],
      "metadata": {
        "id": "vjR2nEjmErGs"
      },
      "execution_count": 6,
      "outputs": []
    },
    {
      "cell_type": "code",
      "source": [
        "input_shape =(28,28,1)"
      ],
      "metadata": {
        "id": "3kYKLmxAEzmY"
      },
      "execution_count": 7,
      "outputs": []
    },
    {
      "cell_type": "code",
      "source": [
        "y_train = keras.utils.to_categorical(y_train)"
      ],
      "metadata": {
        "id": "iUflg-MXE99V"
      },
      "execution_count": 8,
      "outputs": []
    },
    {
      "cell_type": "code",
      "source": [
        "y_test = keras.utils.to_categorical(y_test)"
      ],
      "metadata": {
        "id": "4loORpYAFF7G"
      },
      "execution_count": 9,
      "outputs": []
    },
    {
      "cell_type": "markdown",
      "source": [
        "# Preprocessing\n",
        "\n",
        " -\n",
        "\n",
        "1.  min max approach (pixel range between 0 to 255),after min-max(0 to 1)\n",
        "\n",
        "\n",
        "\n",
        "\n"
      ],
      "metadata": {
        "id": "eApczzyxFRN1"
      }
    },
    {
      "cell_type": "code",
      "source": [
        "x_train = x_train/255.0\n",
        "x_test = x_test/255.0"
      ],
      "metadata": {
        "id": "k14qO3QPFK6M"
      },
      "execution_count": 10,
      "outputs": []
    },
    {
      "cell_type": "markdown",
      "source": [
        "## Building a model"
      ],
      "metadata": {
        "id": "AhUo2g1_Ipgj"
      }
    },
    {
      "cell_type": "code",
      "source": [
        "def build_model(optimizer):\n",
        "  model = Sequential()\n",
        "  model.add(Flatten())\n",
        "  model.add(Dense(256,activation='relu',input_shape=input_shape))\n",
        "  model.add(Dropout(0,25))\n",
        "  model.add(Dense(256,activation ='relu'))\n",
        "  model.add(Dropout(0.5))\n",
        "  model.add(Dense(10,activation='softmax'))\n",
        "  model.compile(optimizer=optimizer,loss=keras.losses.categorical_crossentropy,metrics=['accuracy'])\n",
        "  return model"
      ],
      "metadata": {
        "id": "SJZ2dngjH9jE"
      },
      "execution_count": 15,
      "outputs": []
    },
    {
      "cell_type": "code",
      "source": [
        "\n",
        "# Train the model\n",
        "\n",
        "optimizers =['SGD','Adagrad','Adadelta','RMSprop','Adam']\n",
        "\n",
        "for i in optimizers:\n",
        "  model = build_model(i)\n",
        "  history = model.fit(x_train,y_train,validation_data=[x_test,y_test],batch_size=64,epochs=10)\n",
        "\n"
      ],
      "metadata": {
        "colab": {
          "base_uri": "https://localhost:8080/"
        },
        "id": "aA6PrGW1KZCJ",
        "outputId": "b9462ea7-33ba-4dd0-ac75-4cdc31853295"
      },
      "execution_count": 16,
      "outputs": [
        {
          "output_type": "stream",
          "name": "stdout",
          "text": [
            "Epoch 1/10\n",
            "938/938 [==============================] - 8s 8ms/step - loss: 1.0200 - accuracy: 0.7022 - val_loss: 0.4229 - val_accuracy: 0.8924\n",
            "Epoch 2/10\n",
            "938/938 [==============================] - 6s 6ms/step - loss: 0.4682 - accuracy: 0.8637 - val_loss: 0.3160 - val_accuracy: 0.9117\n",
            "Epoch 3/10\n",
            "938/938 [==============================] - 7s 7ms/step - loss: 0.3794 - accuracy: 0.8905 - val_loss: 0.2747 - val_accuracy: 0.9219\n",
            "Epoch 4/10\n",
            "938/938 [==============================] - 6s 6ms/step - loss: 0.3295 - accuracy: 0.9057 - val_loss: 0.2449 - val_accuracy: 0.9283\n",
            "Epoch 5/10\n",
            "938/938 [==============================] - 7s 7ms/step - loss: 0.2982 - accuracy: 0.9140 - val_loss: 0.2251 - val_accuracy: 0.9347\n",
            "Epoch 6/10\n",
            "938/938 [==============================] - 6s 7ms/step - loss: 0.2720 - accuracy: 0.9222 - val_loss: 0.2089 - val_accuracy: 0.9390\n",
            "Epoch 7/10\n",
            "938/938 [==============================] - 7s 7ms/step - loss: 0.2530 - accuracy: 0.9276 - val_loss: 0.1956 - val_accuracy: 0.9431\n",
            "Epoch 8/10\n",
            "938/938 [==============================] - 6s 6ms/step - loss: 0.2374 - accuracy: 0.9312 - val_loss: 0.1833 - val_accuracy: 0.9457\n",
            "Epoch 9/10\n",
            "938/938 [==============================] - 7s 8ms/step - loss: 0.2241 - accuracy: 0.9352 - val_loss: 0.1740 - val_accuracy: 0.9489\n",
            "Epoch 10/10\n",
            "938/938 [==============================] - 6s 6ms/step - loss: 0.2110 - accuracy: 0.9394 - val_loss: 0.1658 - val_accuracy: 0.9508\n",
            "Epoch 1/10\n",
            "938/938 [==============================] - 8s 8ms/step - loss: 1.6702 - accuracy: 0.5157 - val_loss: 0.9759 - val_accuracy: 0.8122\n",
            "Epoch 2/10\n",
            "938/938 [==============================] - 7s 7ms/step - loss: 0.8754 - accuracy: 0.7619 - val_loss: 0.5896 - val_accuracy: 0.8651\n",
            "Epoch 3/10\n",
            "938/938 [==============================] - 8s 8ms/step - loss: 0.6518 - accuracy: 0.8145 - val_loss: 0.4708 - val_accuracy: 0.8828\n",
            "Epoch 4/10\n",
            "938/938 [==============================] - 7s 7ms/step - loss: 0.5544 - accuracy: 0.8419 - val_loss: 0.4120 - val_accuracy: 0.8932\n",
            "Epoch 5/10\n",
            "938/938 [==============================] - 8s 8ms/step - loss: 0.4979 - accuracy: 0.8573 - val_loss: 0.3750 - val_accuracy: 0.9009\n",
            "Epoch 6/10\n",
            "938/938 [==============================] - 8s 9ms/step - loss: 0.4606 - accuracy: 0.8683 - val_loss: 0.3508 - val_accuracy: 0.9057\n",
            "Epoch 7/10\n",
            "938/938 [==============================] - 7s 8ms/step - loss: 0.4324 - accuracy: 0.8758 - val_loss: 0.3324 - val_accuracy: 0.9103\n",
            "Epoch 8/10\n",
            "938/938 [==============================] - 8s 9ms/step - loss: 0.4149 - accuracy: 0.8811 - val_loss: 0.3183 - val_accuracy: 0.9137\n",
            "Epoch 9/10\n",
            "938/938 [==============================] - 7s 7ms/step - loss: 0.3941 - accuracy: 0.8878 - val_loss: 0.3064 - val_accuracy: 0.9167\n",
            "Epoch 10/10\n",
            "938/938 [==============================] - 8s 8ms/step - loss: 0.3798 - accuracy: 0.8913 - val_loss: 0.2961 - val_accuracy: 0.9201\n",
            "Epoch 1/10\n",
            "938/938 [==============================] - 10s 9ms/step - loss: 2.3025 - accuracy: 0.1447 - val_loss: 2.2044 - val_accuracy: 0.2015\n",
            "Epoch 2/10\n",
            "938/938 [==============================] - 9s 9ms/step - loss: 2.1842 - accuracy: 0.2111 - val_loss: 2.0945 - val_accuracy: 0.3297\n",
            "Epoch 3/10\n",
            "938/938 [==============================] - 9s 10ms/step - loss: 2.0792 - accuracy: 0.2953 - val_loss: 1.9909 - val_accuracy: 0.4895\n",
            "Epoch 4/10\n",
            "938/938 [==============================] - 9s 9ms/step - loss: 1.9831 - accuracy: 0.3906 - val_loss: 1.8886 - val_accuracy: 0.5901\n",
            "Epoch 5/10\n",
            "938/938 [==============================] - 8s 9ms/step - loss: 1.8863 - accuracy: 0.4637 - val_loss: 1.7854 - val_accuracy: 0.6453\n",
            "Epoch 6/10\n",
            "938/938 [==============================] - 9s 10ms/step - loss: 1.7887 - accuracy: 0.5218 - val_loss: 1.6816 - val_accuracy: 0.6851\n",
            "Epoch 7/10\n",
            "938/938 [==============================] - 9s 9ms/step - loss: 1.6941 - accuracy: 0.5628 - val_loss: 1.5780 - val_accuracy: 0.7137\n",
            "Epoch 8/10\n",
            "938/938 [==============================] - 8s 9ms/step - loss: 1.5986 - accuracy: 0.5937 - val_loss: 1.4770 - val_accuracy: 0.7349\n",
            "Epoch 9/10\n",
            "938/938 [==============================] - 9s 10ms/step - loss: 1.5102 - accuracy: 0.6191 - val_loss: 1.3806 - val_accuracy: 0.7516\n",
            "Epoch 10/10\n",
            "938/938 [==============================] - 10s 10ms/step - loss: 1.4252 - accuracy: 0.6413 - val_loss: 1.2895 - val_accuracy: 0.7663\n",
            "Epoch 1/10\n",
            "938/938 [==============================] - 8s 8ms/step - loss: 0.2709 - accuracy: 0.9183 - val_loss: 0.1176 - val_accuracy: 0.9653\n",
            "Epoch 2/10\n",
            "938/938 [==============================] - 8s 9ms/step - loss: 0.1133 - accuracy: 0.9668 - val_loss: 0.0849 - val_accuracy: 0.9728\n",
            "Epoch 3/10\n",
            "938/938 [==============================] - 7s 8ms/step - loss: 0.0812 - accuracy: 0.9766 - val_loss: 0.0907 - val_accuracy: 0.9746\n",
            "Epoch 4/10\n",
            "938/938 [==============================] - 7s 8ms/step - loss: 0.0636 - accuracy: 0.9820 - val_loss: 0.0820 - val_accuracy: 0.9777\n",
            "Epoch 5/10\n",
            "938/938 [==============================] - 8s 8ms/step - loss: 0.0518 - accuracy: 0.9851 - val_loss: 0.0919 - val_accuracy: 0.9780\n",
            "Epoch 6/10\n",
            "938/938 [==============================] - 7s 8ms/step - loss: 0.0464 - accuracy: 0.9864 - val_loss: 0.0899 - val_accuracy: 0.9793\n",
            "Epoch 7/10\n",
            "938/938 [==============================] - 8s 9ms/step - loss: 0.0394 - accuracy: 0.9889 - val_loss: 0.0905 - val_accuracy: 0.9795\n",
            "Epoch 8/10\n",
            "938/938 [==============================] - 7s 7ms/step - loss: 0.0357 - accuracy: 0.9898 - val_loss: 0.0912 - val_accuracy: 0.9790\n",
            "Epoch 9/10\n",
            "938/938 [==============================] - 8s 9ms/step - loss: 0.0327 - accuracy: 0.9906 - val_loss: 0.0966 - val_accuracy: 0.9790\n",
            "Epoch 10/10\n",
            "938/938 [==============================] - 8s 9ms/step - loss: 0.0271 - accuracy: 0.9917 - val_loss: 0.1017 - val_accuracy: 0.9800\n",
            "Epoch 1/10\n",
            "938/938 [==============================] - 10s 9ms/step - loss: 0.2809 - accuracy: 0.9155 - val_loss: 0.1337 - val_accuracy: 0.9603\n",
            "Epoch 2/10\n",
            "938/938 [==============================] - 7s 8ms/step - loss: 0.1132 - accuracy: 0.9659 - val_loss: 0.0956 - val_accuracy: 0.9693\n",
            "Epoch 3/10\n",
            "938/938 [==============================] - 9s 9ms/step - loss: 0.0798 - accuracy: 0.9757 - val_loss: 0.0756 - val_accuracy: 0.9777\n",
            "Epoch 4/10\n",
            "938/938 [==============================] - 8s 9ms/step - loss: 0.0605 - accuracy: 0.9811 - val_loss: 0.0719 - val_accuracy: 0.9782\n",
            "Epoch 5/10\n",
            "938/938 [==============================] - 8s 8ms/step - loss: 0.0477 - accuracy: 0.9848 - val_loss: 0.0746 - val_accuracy: 0.9799\n",
            "Epoch 6/10\n",
            "938/938 [==============================] - 8s 9ms/step - loss: 0.0405 - accuracy: 0.9863 - val_loss: 0.0896 - val_accuracy: 0.9752\n",
            "Epoch 7/10\n",
            "938/938 [==============================] - 7s 8ms/step - loss: 0.0346 - accuracy: 0.9889 - val_loss: 0.0818 - val_accuracy: 0.9790\n",
            "Epoch 8/10\n",
            "938/938 [==============================] - 8s 9ms/step - loss: 0.0303 - accuracy: 0.9895 - val_loss: 0.0808 - val_accuracy: 0.9794\n",
            "Epoch 9/10\n",
            "938/938 [==============================] - 9s 9ms/step - loss: 0.0258 - accuracy: 0.9915 - val_loss: 0.0820 - val_accuracy: 0.9799\n",
            "Epoch 10/10\n",
            "938/938 [==============================] - 7s 8ms/step - loss: 0.0230 - accuracy: 0.9924 - val_loss: 0.0882 - val_accuracy: 0.9802\n"
          ]
        }
      ]
    }
  ]
}