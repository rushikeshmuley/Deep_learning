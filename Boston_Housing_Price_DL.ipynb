{
  "nbformat": 4,
  "nbformat_minor": 0,
  "metadata": {
    "colab": {
      "provenance": [],
      "gpuType": "T4"
    },
    "kernelspec": {
      "name": "python3",
      "display_name": "Python 3"
    },
    "language_info": {
      "name": "python"
    },
    "accelerator": "GPU"
  },
  "cells": [
    {
      "cell_type": "code",
      "execution_count": 1,
      "metadata": {
        "id": "AJBcH1Z3RGUg"
      },
      "outputs": [],
      "source": [
        "import tensorflow as tf\n",
        "from tensorflow import keras"
      ]
    },
    {
      "cell_type": "markdown",
      "source": [
        "# Collect Dataset"
      ],
      "metadata": {
        "id": "beqz9atdSM4W"
      }
    },
    {
      "cell_type": "code",
      "source": [
        "(features,actual_prices),_ = tf.keras.datasets.boston_housing.load_data(test_split=0)"
      ],
      "metadata": {
        "id": "poCgCBwLRvbS"
      },
      "execution_count": 2,
      "outputs": []
    },
    {
      "cell_type": "code",
      "source": [
        "print(\"Number of examples:\",features.shape[0])\n",
        "print(\"Number of features for each examples:\",features.shape[1])\n",
        "print(\"shape of actual prices:\",actual_prices.shape)\n"
      ],
      "metadata": {
        "colab": {
          "base_uri": "https://localhost:8080/"
        },
        "id": "YWnNjcgRgMQy",
        "outputId": "0f3d6f90-7e3c-4121-9b4b-0e5a847f3d6e"
      },
      "execution_count": 4,
      "outputs": [
        {
          "output_type": "stream",
          "name": "stdout",
          "text": [
            "Number of examples: 506\n",
            "Number of features for each examples: 13\n",
            "shape of actual prices: (506,)\n"
          ]
        }
      ]
    },
    {
      "cell_type": "code",
      "source": [
        "# Initialize sequential model\n",
        "model = tf.keras.models.Sequential()\n",
        "model.add(tf.keras.layers.BatchNormalization(input_shape=(13,)))\n",
        "model.add(tf.keras.layers.Dense(3))\n",
        "model.add(tf.keras.layers.Dense(1))\n",
        "model.compile(optimizer='adam',loss='mse')\n",
        "model.fit(features,actual_prices,epochs=50)\n",
        "\n"
      ],
      "metadata": {
        "colab": {
          "base_uri": "https://localhost:8080/"
        },
        "id": "td-xVbDgV9Sp",
        "outputId": "d2121d47-3f57-4c08-b2de-7405f387b4f2"
      },
      "execution_count": 5,
      "outputs": [
        {
          "output_type": "stream",
          "name": "stdout",
          "text": [
            "Epoch 1/50\n",
            "16/16 [==============================] - 1s 4ms/step - loss: 605.4391\n",
            "Epoch 2/50\n",
            "16/16 [==============================] - 0s 3ms/step - loss: 599.2243\n",
            "Epoch 3/50\n",
            "16/16 [==============================] - 0s 3ms/step - loss: 593.6816\n",
            "Epoch 4/50\n",
            "16/16 [==============================] - 0s 3ms/step - loss: 588.6743\n",
            "Epoch 5/50\n",
            "16/16 [==============================] - 0s 3ms/step - loss: 583.6378\n",
            "Epoch 6/50\n",
            "16/16 [==============================] - 0s 4ms/step - loss: 578.5385\n",
            "Epoch 7/50\n",
            "16/16 [==============================] - 0s 3ms/step - loss: 573.7490\n",
            "Epoch 8/50\n",
            "16/16 [==============================] - 0s 3ms/step - loss: 567.9296\n",
            "Epoch 9/50\n",
            "16/16 [==============================] - 0s 3ms/step - loss: 561.6636\n",
            "Epoch 10/50\n",
            "16/16 [==============================] - 0s 3ms/step - loss: 554.3662\n",
            "Epoch 11/50\n",
            "16/16 [==============================] - 0s 3ms/step - loss: 545.7227\n",
            "Epoch 12/50\n",
            "16/16 [==============================] - 0s 3ms/step - loss: 535.5637\n",
            "Epoch 13/50\n",
            "16/16 [==============================] - 0s 3ms/step - loss: 524.1104\n",
            "Epoch 14/50\n",
            "16/16 [==============================] - 0s 6ms/step - loss: 510.6656\n",
            "Epoch 15/50\n",
            "16/16 [==============================] - 0s 5ms/step - loss: 494.6621\n",
            "Epoch 16/50\n",
            "16/16 [==============================] - 0s 5ms/step - loss: 476.0519\n",
            "Epoch 17/50\n",
            "16/16 [==============================] - 0s 5ms/step - loss: 455.8255\n",
            "Epoch 18/50\n",
            "16/16 [==============================] - 0s 5ms/step - loss: 432.3754\n",
            "Epoch 19/50\n",
            "16/16 [==============================] - 0s 5ms/step - loss: 406.9975\n",
            "Epoch 20/50\n",
            "16/16 [==============================] - 0s 5ms/step - loss: 380.5005\n",
            "Epoch 21/50\n",
            "16/16 [==============================] - 0s 5ms/step - loss: 352.1741\n",
            "Epoch 22/50\n",
            "16/16 [==============================] - 0s 4ms/step - loss: 321.3648\n",
            "Epoch 23/50\n",
            "16/16 [==============================] - 0s 5ms/step - loss: 291.8225\n",
            "Epoch 24/50\n",
            "16/16 [==============================] - 0s 5ms/step - loss: 263.4208\n",
            "Epoch 25/50\n",
            "16/16 [==============================] - 0s 5ms/step - loss: 232.7862\n",
            "Epoch 26/50\n",
            "16/16 [==============================] - 0s 5ms/step - loss: 202.9520\n",
            "Epoch 27/50\n",
            "16/16 [==============================] - 0s 5ms/step - loss: 174.5154\n",
            "Epoch 28/50\n",
            "16/16 [==============================] - 0s 5ms/step - loss: 151.4863\n",
            "Epoch 29/50\n",
            "16/16 [==============================] - 0s 5ms/step - loss: 128.0011\n",
            "Epoch 30/50\n",
            "16/16 [==============================] - 0s 5ms/step - loss: 108.5967\n",
            "Epoch 31/50\n",
            "16/16 [==============================] - 0s 4ms/step - loss: 94.4482\n",
            "Epoch 32/50\n",
            "16/16 [==============================] - 0s 5ms/step - loss: 81.2256\n",
            "Epoch 33/50\n",
            "16/16 [==============================] - 0s 5ms/step - loss: 70.3133\n",
            "Epoch 34/50\n",
            "16/16 [==============================] - 0s 5ms/step - loss: 62.4594\n",
            "Epoch 35/50\n",
            "16/16 [==============================] - 0s 5ms/step - loss: 57.1760\n",
            "Epoch 36/50\n",
            "16/16 [==============================] - 0s 5ms/step - loss: 50.3914\n",
            "Epoch 37/50\n",
            "16/16 [==============================] - 0s 5ms/step - loss: 47.6258\n",
            "Epoch 38/50\n",
            "16/16 [==============================] - 0s 5ms/step - loss: 44.5642\n",
            "Epoch 39/50\n",
            "16/16 [==============================] - 0s 5ms/step - loss: 43.7996\n",
            "Epoch 40/50\n",
            "16/16 [==============================] - 0s 5ms/step - loss: 41.5966\n",
            "Epoch 41/50\n",
            "16/16 [==============================] - 0s 5ms/step - loss: 39.3365\n",
            "Epoch 42/50\n",
            "16/16 [==============================] - 0s 5ms/step - loss: 40.6491\n",
            "Epoch 43/50\n",
            "16/16 [==============================] - 0s 6ms/step - loss: 41.2207\n",
            "Epoch 44/50\n",
            "16/16 [==============================] - 0s 6ms/step - loss: 36.7819\n",
            "Epoch 45/50\n",
            "16/16 [==============================] - 0s 5ms/step - loss: 37.9885\n",
            "Epoch 46/50\n",
            "16/16 [==============================] - 0s 5ms/step - loss: 37.8073\n",
            "Epoch 47/50\n",
            "16/16 [==============================] - 0s 6ms/step - loss: 38.0731\n",
            "Epoch 48/50\n",
            "16/16 [==============================] - 0s 3ms/step - loss: 37.5338\n",
            "Epoch 49/50\n",
            "16/16 [==============================] - 0s 3ms/step - loss: 38.8824\n",
            "Epoch 50/50\n",
            "16/16 [==============================] - 0s 3ms/step - loss: 35.8291\n"
          ]
        },
        {
          "output_type": "execute_result",
          "data": {
            "text/plain": [
              "<keras.callbacks.History at 0x7d78402e70a0>"
            ]
          },
          "metadata": {},
          "execution_count": 5
        }
      ]
    },
    {
      "cell_type": "code",
      "source": [
        "model.summary()"
      ],
      "metadata": {
        "colab": {
          "base_uri": "https://localhost:8080/"
        },
        "id": "ASs5Flk-c4jM",
        "outputId": "34c3b52c-0cc3-4a64-fa77-992221a22af8"
      },
      "execution_count": 6,
      "outputs": [
        {
          "output_type": "stream",
          "name": "stdout",
          "text": [
            "Model: \"sequential_1\"\n",
            "_________________________________________________________________\n",
            " Layer (type)                Output Shape              Param #   \n",
            "=================================================================\n",
            " batch_normalization_1 (Batc  (None, 13)               52        \n",
            " hNormalization)                                                 \n",
            "                                                                 \n",
            " dense_2 (Dense)             (None, 3)                 42        \n",
            "                                                                 \n",
            " dense_3 (Dense)             (None, 1)                 4         \n",
            "                                                                 \n",
            "=================================================================\n",
            "Total params: 98\n",
            "Trainable params: 72\n",
            "Non-trainable params: 26\n",
            "_________________________________________________________________\n"
          ]
        }
      ]
    },
    {
      "cell_type": "code",
      "source": [],
      "metadata": {
        "id": "0o8LW0gqhmbL"
      },
      "execution_count": null,
      "outputs": []
    }
  ]
}