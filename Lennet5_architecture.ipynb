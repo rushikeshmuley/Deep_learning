{
  "nbformat": 4,
  "nbformat_minor": 0,
  "metadata": {
    "colab": {
      "provenance": [],
      "gpuType": "T4"
    },
    "kernelspec": {
      "name": "python3",
      "display_name": "Python 3"
    },
    "language_info": {
      "name": "python"
    },
    "accelerator": "GPU"
  },
  "cells": [
    {
      "cell_type": "code",
      "execution_count": 1,
      "metadata": {
        "id": "vMvrPzjltg2f"
      },
      "outputs": [],
      "source": [
        "\n",
        "import tensorflow as tf\n",
        "from tensorflow import keras\n",
        "from keras.utils import np_utils"
      ]
    },
    {
      "cell_type": "code",
      "source": [
        "\n",
        "# Load Dataset as train and test\n",
        "(x_train, y_train), (x_test, y_test) = keras.datasets.mnist.load_data()"
      ],
      "metadata": {
        "colab": {
          "base_uri": "https://localhost:8080/"
        },
        "id": "1W7kYlfJt6cw",
        "outputId": "5d6847f5-bd02-4bcb-ea52-235e100c333d"
      },
      "execution_count": 2,
      "outputs": [
        {
          "output_type": "stream",
          "name": "stdout",
          "text": [
            "Downloading data from https://storage.googleapis.com/tensorflow/tf-keras-datasets/mnist.npz\n",
            "11490434/11490434 [==============================] - 0s 0us/step\n"
          ]
        }
      ]
    },
    {
      "cell_type": "code",
      "source": [
        "# Feature Scaling\n",
        "x_train = x_train/255.0\n",
        "x_test = x_test/255.0\n",
        ""
      ],
      "metadata": {
        "id": "cmJLRfeHuPC7"
      },
      "execution_count": 3,
      "outputs": []
    },
    {
      "cell_type": "code",
      "source": [
        "x_train.shape\n"
      ],
      "metadata": {
        "colab": {
          "base_uri": "https://localhost:8080/"
        },
        "id": "XnUcWwrZuRWx",
        "outputId": "95b70d5e-8c18-4f28-c3bf-9061797413cb"
      },
      "execution_count": 4,
      "outputs": [
        {
          "output_type": "execute_result",
          "data": {
            "text/plain": [
              "(60000, 28, 28)"
            ]
          },
          "metadata": {},
          "execution_count": 4
        }
      ]
    },
    {
      "cell_type": "code",
      "source": [
        "\n",
        "from keras.utils import np_utils"
      ],
      "metadata": {
        "id": "ryULSox2uT2d"
      },
      "execution_count": 5,
      "outputs": []
    },
    {
      "cell_type": "code",
      "source": [
        "\n",
        "y_train = np_utils.to_categorical(y_train,10)\n",
        "y_test = np_utils.to_categorical(y_test,10)"
      ],
      "metadata": {
        "id": "UKuGzbFPuXId"
      },
      "execution_count": 6,
      "outputs": []
    },
    {
      "cell_type": "code",
      "source": [
        "y_train.shape\n",
        ""
      ],
      "metadata": {
        "colab": {
          "base_uri": "https://localhost:8080/"
        },
        "id": "m3bnubLOuZIV",
        "outputId": "f9f5fff3-9f12-4a84-9098-a6b2300d997d"
      },
      "execution_count": 7,
      "outputs": [
        {
          "output_type": "execute_result",
          "data": {
            "text/plain": [
              "(60000, 10)"
            ]
          },
          "metadata": {},
          "execution_count": 7
        }
      ]
    },
    {
      "cell_type": "code",
      "source": [
        "\n",
        "x_train = x_train.reshape(x_train.shape[0], 28, 28, 1)\n",
        "x_tesr = x_test.reshape(x_test.shape[0], 28, 28, 1)"
      ],
      "metadata": {
        "id": "71ps4a2nubiQ"
      },
      "execution_count": 8,
      "outputs": []
    },
    {
      "cell_type": "code",
      "source": [
        "x_train.shape"
      ],
      "metadata": {
        "colab": {
          "base_uri": "https://localhost:8080/"
        },
        "id": "jYIqNRO8ud3F",
        "outputId": "17097442-c89f-4260-8fcc-be824b1848f0"
      },
      "execution_count": 9,
      "outputs": [
        {
          "output_type": "execute_result",
          "data": {
            "text/plain": [
              "(60000, 28, 28, 1)"
            ]
          },
          "metadata": {},
          "execution_count": 9
        }
      ]
    },
    {
      "cell_type": "code",
      "source": [
        "from keras.layers import Conv2D, Dense, Flatten, AveragePooling2D\n",
        "from keras import Sequential"
      ],
      "metadata": {
        "id": "UIRobj4gugTO"
      },
      "execution_count": 10,
      "outputs": []
    },
    {
      "cell_type": "markdown",
      "source": [
        "lenet5 architeture![LeNet5.png](data:image/png;base64,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)"
      ],
      "metadata": {
        "id": "yGAHpDFDulPR"
      }
    },
    {
      "cell_type": "code",
      "source": [
        "model = Sequential()\n",
        "#part1\n",
        "model.add(Conv2D(6, kernel_size=(5,5), padding='valid', activation='tanh', input_shape=(28,28,1)))\n",
        "model.add(AveragePooling2D(pool_size=(2,2), strides=2, padding='valid'))\n",
        "\n",
        "#part2\n",
        "model.add(Conv2D(16, kernel_size=(5,5), padding='valid', activation='tanh'))\n",
        "model.add(AveragePooling2D(pool_size=(2,2), strides=2, padding='valid'))\n",
        "\n",
        "#part3\n",
        "\n",
        "model.add(Flatten())\n",
        "\n",
        "#part4\n",
        "model.add(Dense(120, activation='tanh'))\n",
        "model.add(Dense(84, activation='tanh'))\n",
        "model.add(Dense(10, activation='softmax'))\n",
        "\n",
        "#part5\n",
        "model.summary()"
      ],
      "metadata": {
        "colab": {
          "base_uri": "https://localhost:8080/"
        },
        "id": "0galFBXtui2X",
        "outputId": "6bd2d99d-ed91-4902-ffb9-f541836007f3"
      },
      "execution_count": 11,
      "outputs": [
        {
          "output_type": "stream",
          "name": "stdout",
          "text": [
            "Model: \"sequential\"\n",
            "_________________________________________________________________\n",
            " Layer (type)                Output Shape              Param #   \n",
            "=================================================================\n",
            " conv2d (Conv2D)             (None, 24, 24, 6)         156       \n",
            "                                                                 \n",
            " average_pooling2d (AverageP  (None, 12, 12, 6)        0         \n",
            " ooling2D)                                                       \n",
            "                                                                 \n",
            " conv2d_1 (Conv2D)           (None, 8, 8, 16)          2416      \n",
            "                                                                 \n",
            " average_pooling2d_1 (Averag  (None, 4, 4, 16)         0         \n",
            " ePooling2D)                                                     \n",
            "                                                                 \n",
            " flatten (Flatten)           (None, 256)               0         \n",
            "                                                                 \n",
            " dense (Dense)               (None, 120)               30840     \n",
            "                                                                 \n",
            " dense_1 (Dense)             (None, 84)                10164     \n",
            "                                                                 \n",
            " dense_2 (Dense)             (None, 10)                850       \n",
            "                                                                 \n",
            "=================================================================\n",
            "Total params: 44,426\n",
            "Trainable params: 44,426\n",
            "Non-trainable params: 0\n",
            "_________________________________________________________________\n"
          ]
        }
      ]
    },
    {
      "cell_type": "code",
      "source": [
        "import matplotlib.pyplot as plt\n",
        "\n",
        "plt.figure(figsize=(10,10))\n",
        "\n",
        "for i in range(25):\n",
        "  plt.subplot(5,5,i+1)\n",
        "  plt.xticks([])\n",
        "  plt.yticks([])\n",
        "  plt.imshow(x_train[i])\n",
        "plt.show()"
      ],
      "metadata": {
        "colab": {
          "base_uri": "https://localhost:8080/",
          "height": 807
        },
        "id": "2-0VBlYGu0Ks",
        "outputId": "c0564cbf-c3c0-4f7b-bbfb-1846a4f88e51"
      },
      "execution_count": 12,
      "outputs": [
        {
          "output_type": "display_data",
          "data": {
            "text/plain": [
              "<Figure size 1000x1000 with 25 Axes>"
            ],
            "image/png": "[encoded data removed]"
          },
          "metadata": {}
        }
      ]
    },
    {
      "cell_type": "code",
      "source": [
        "\n",
        "model.compile(loss=keras.losses.categorical_crossentropy, optimizer= 'adam', metrics=['accuracy'])"
      ],
      "metadata": {
        "id": "M1cuLOZtu3RR"
      },
      "execution_count": 13,
      "outputs": []
    },
    {
      "cell_type": "code",
      "source": [
        "\n",
        "history = model.fit(x_train, y_train, validation_data=(x_test, y_test), epochs=20, batch_size=128, verbose=1)"
      ],
      "metadata": {
        "colab": {
          "base_uri": "https://localhost:8080/"
        },
        "id": "oFqxhqRGu5qw",
        "outputId": "0c69b8e1-175e-4131-a4e5-5ed4fc0ff81d"
      },
      "execution_count": 14,
      "outputs": [
        {
          "output_type": "stream",
          "name": "stdout",
          "text": [
            "Epoch 1/20\n",
            "469/469 [==============================] - 14s 6ms/step - loss: 0.3626 - accuracy: 0.8949 - val_loss: 0.1599 - val_accuracy: 0.9513\n",
            "Epoch 2/20\n",
            "469/469 [==============================] - 3s 6ms/step - loss: 0.1304 - accuracy: 0.9609 - val_loss: 0.1073 - val_accuracy: 0.9648\n",
            "Epoch 3/20\n",
            "469/469 [==============================] - 2s 5ms/step - loss: 0.0859 - accuracy: 0.9741 - val_loss: 0.0727 - val_accuracy: 0.9768\n",
            "Epoch 4/20\n",
            "469/469 [==============================] - 4s 8ms/step - loss: 0.0650 - accuracy: 0.9799 - val_loss: 0.0720 - val_accuracy: 0.9769\n",
            "Epoch 5/20\n",
            "469/469 [==============================] - 3s 6ms/step - loss: 0.0515 - accuracy: 0.9841 - val_loss: 0.0566 - val_accuracy: 0.9819\n",
            "Epoch 6/20\n",
            "469/469 [==============================] - 3s 7ms/step - loss: 0.0437 - accuracy: 0.9866 - val_loss: 0.0558 - val_accuracy: 0.9810\n",
            "Epoch 7/20\n",
            "469/469 [==============================] - 2s 5ms/step - loss: 0.0367 - accuracy: 0.9886 - val_loss: 0.0513 - val_accuracy: 0.9835\n",
            "Epoch 8/20\n",
            "469/469 [==============================] - 2s 5ms/step - loss: 0.0309 - accuracy: 0.9907 - val_loss: 0.0571 - val_accuracy: 0.9822\n",
            "Epoch 9/20\n",
            "469/469 [==============================] - 3s 6ms/step - loss: 0.0261 - accuracy: 0.9916 - val_loss: 0.0475 - val_accuracy: 0.9845\n",
            "Epoch 10/20\n",
            "469/469 [==============================] - 2s 5ms/step - loss: 0.0208 - accuracy: 0.9936 - val_loss: 0.0457 - val_accuracy: 0.9843\n",
            "Epoch 11/20\n",
            "469/469 [==============================] - 3s 6ms/step - loss: 0.0191 - accuracy: 0.9939 - val_loss: 0.0532 - val_accuracy: 0.9832\n",
            "Epoch 12/20\n",
            "469/469 [==============================] - 2s 5ms/step - loss: 0.0175 - accuracy: 0.9945 - val_loss: 0.0606 - val_accuracy: 0.9819\n",
            "Epoch 13/20\n",
            "469/469 [==============================] - 2s 5ms/step - loss: 0.0141 - accuracy: 0.9957 - val_loss: 0.0481 - val_accuracy: 0.9842\n",
            "Epoch 14/20\n",
            "469/469 [==============================] - 2s 5ms/step - loss: 0.0120 - accuracy: 0.9964 - val_loss: 0.0514 - val_accuracy: 0.9838\n",
            "Epoch 15/20\n",
            "469/469 [==============================] - 2s 5ms/step - loss: 0.0102 - accuracy: 0.9970 - val_loss: 0.0502 - val_accuracy: 0.9848\n",
            "Epoch 16/20\n",
            "469/469 [==============================] - 3s 6ms/step - loss: 0.0103 - accuracy: 0.9968 - val_loss: 0.0487 - val_accuracy: 0.9856\n",
            "Epoch 17/20\n",
            "469/469 [==============================] - 2s 5ms/step - loss: 0.0098 - accuracy: 0.9970 - val_loss: 0.0608 - val_accuracy: 0.9825\n",
            "Epoch 18/20\n",
            "469/469 [==============================] - 2s 5ms/step - loss: 0.0082 - accuracy: 0.9974 - val_loss: 0.0506 - val_accuracy: 0.9856\n",
            "Epoch 19/20\n",
            "469/469 [==============================] - 2s 5ms/step - loss: 0.0057 - accuracy: 0.9984 - val_loss: 0.0502 - val_accuracy: 0.9845\n",
            "Epoch 20/20\n",
            "469/469 [==============================] - 2s 5ms/step - loss: 0.0057 - accuracy: 0.9983 - val_loss: 0.0515 - val_accuracy: 0.9852\n"
          ]
        }
      ]
    },
    {
      "cell_type": "markdown",
      "source": [
        "The provided code implements the LeNet-5 architecture using a Sequential model in Keras. LeNet-5 is a classic convolutional neural network designed for handwritten digit recognition.\n",
        "\n",
        "The architecture consists of two sets of convolutional and average pooling layers, followed by fully connected layers. The activation function used throughout the model is hyperbolic tangent (tanh).\n",
        "\n",
        "The input images are grayscale and have dimensions of 28x28 pixels. The model's layers are added sequentially using the add() function.\n",
        "\n",
        "After defining the architecture, a visualization of the first 25 images from the training dataset is displayed using Matplotlib.\n",
        "\n",
        "The model is then trained using the fit() function, with the training data (x_train and y_train) and validation data (x_test and y_test) provided. The training is performed for 20 epochs with a batch size of 128, and the training progress is displayed.\n",
        "\n",
        "Overall, the code effectively implements the LeNet-5 architecture, trains the model on the MNIST dataset, and provides a visualization of the training images. LeNet-5 has been a foundational architecture in the field of computer vision and is widely recognized for its success in handwritten digit recognition."
      ],
      "metadata": {
        "id": "4vJKCABDvChn"
      }
    }
  ]
}